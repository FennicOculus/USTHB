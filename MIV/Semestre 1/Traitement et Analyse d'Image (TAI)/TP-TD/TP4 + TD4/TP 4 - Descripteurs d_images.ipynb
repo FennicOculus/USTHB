{
 "cells": [
  {
   "cell_type": "markdown",
   "metadata": {
    "id": "um2QXkfLXlXS"
   },
   "source": [
    "# TP à rendre 4 descripteurs d'images\n",
    "Dans ce TP, nous aimerions appliquer une analyse d'image en extrayant les points clés d'une image donnée.\n",
    "L'objectif de la detection de points d'interet est d'initier des traitement ultérieurs tel que la comparaison d'images entres elles."
   ]
  },
  {
   "cell_type": "code",
   "execution_count": 21,
   "metadata": {
    "id": "KCfoD-G6XlXV"
   },
   "outputs": [],
   "source": [
    "import numpy as np\n",
    "import cv2 as cv\n",
    "import matplotlib.pyplot as plt\n",
    "from numpy import linalg as LA"
   ]
  },
  {
   "cell_type": "code",
   "execution_count": 6,
   "metadata": {},
   "outputs": [],
   "source": [
    "#lecture de l'image\n",
    "image =cv.imread('image2.png',0)"
   ]
  },
  {
   "cell_type": "code",
   "execution_count": 7,
   "metadata": {},
   "outputs": [
    {
     "data": {
      "text/plain": [
       "<matplotlib.image.AxesImage at 0x2bd99a6fac8>"
      ]
     },
     "execution_count": 7,
     "metadata": {},
     "output_type": "execute_result"
    },
    {
     "data": {
      "image/png": "[encoded data removed]",
      "text/plain": [
       "<Figure size 432x288 with 1 Axes>"
      ]
     },
     "metadata": {
      "needs_background": "light"
     },
     "output_type": "display_data"
    }
   ],
   "source": [
    "plt.imshow(image,cmap='gray')"
   ]
  },
  {
   "cell_type": "markdown",
   "metadata": {},
   "source": [
    "# Detection de points avec le detecteur MORAVEC"
   ]
  },
  {
   "cell_type": "markdown",
   "metadata": {},
   "source": [
    "Définition de paramètres"
   ]
  },
  {
   "cell_type": "code",
   "execution_count": 18,
   "metadata": {},
   "outputs": [],
   "source": [
    "# paramétres de MORAVEC\n",
    "S= 2  # Seuil\n",
    "F= 3  # Taille de la fenêtre\n",
    "U= [[1,0],[1,1],[0,1],[-1,1],[-1,0],[-1,-1],[0,-1],[1,-1]]# Déplacements"
   ]
  },
  {
   "cell_type": "markdown",
   "metadata": {},
   "source": [
    "Calcul de la carte de coins (cornerness map)"
   ]
  },
  {
   "cell_type": "code",
   "execution_count": null,
   "metadata": {},
   "outputs": [],
   "source": []
  },
  {
   "cell_type": "markdown",
   "metadata": {},
   "source": [
    "Minimum de la carte de coins"
   ]
  },
  {
   "cell_type": "code",
   "execution_count": null,
   "metadata": {},
   "outputs": [],
   "source": []
  },
  {
   "cell_type": "markdown",
   "metadata": {},
   "source": [
    "Appel des fonctions pour calcul de points d'interêt"
   ]
  },
  {
   "cell_type": "code",
   "execution_count": null,
   "metadata": {},
   "outputs": [],
   "source": []
  },
  {
   "cell_type": "markdown",
   "metadata": {},
   "source": [
    "Affichage de l'image résultante, colorer chaque point d'interêt"
   ]
  },
  {
   "cell_type": "code",
   "execution_count": null,
   "metadata": {},
   "outputs": [],
   "source": []
  },
  {
   "cell_type": "markdown",
   "metadata": {},
   "source": [
    "# Descripteurs Harris\n",
    "D'abord calculer les valeurs et vecteurs propres comme vu en TD, puis appliquer l'agorithme de Harris"
   ]
  },
  {
   "cell_type": "code",
   "execution_count": 27,
   "metadata": {},
   "outputs": [],
   "source": [
    "A= [[-1,2,0],[0,3,4],[0,0,7]]\n",
    "B=[[-1,2,2],[2,2,-1],[1,-2,1]]\n",
    "val1, vec1 = LA.eig(A)\n",
    "val2, vec2 = LA.eig(A)"
   ]
  },
  {
   "cell_type": "code",
   "execution_count": 30,
   "metadata": {},
   "outputs": [
    {
     "name": "stdout",
     "output_type": "stream",
     "text": [
      "[-1.  3.  7.] \n",
      " [[1.         0.4472136  0.17407766]\n",
      " [0.         0.89442719 0.69631062]\n",
      " [0.         0.         0.69631062]] \n",
      " [-1.  3.  7.] \n",
      " [[1.         0.4472136  0.17407766]\n",
      " [0.         0.89442719 0.69631062]\n",
      " [0.         0.         0.69631062]]\n"
     ]
    }
   ],
   "source": [
    "print(val1,'\\n', vec1,'\\n',val2,'\\n',vec2)"
   ]
  },
  {
   "cell_type": "markdown",
   "metadata": {},
   "source": [
    "Expliquer le résultat obtenu, et comparer avec le TD;  \n",
    "Pourquoi les résultats sont-ils différents?"
   ]
  },
  {
   "cell_type": "markdown",
   "metadata": {},
   "source": [
    "# Reponse:\n",
    "votre réponse ici ..."
   ]
  },
  {
   "cell_type": "markdown",
   "metadata": {},
   "source": [
    "# Detection de points avec HARRIS\n",
    "- appliquer les étapes vues en TD\n",
    "- pour chaque point (x,y) de l'image, determiner si c'est un point d'interêt ou pas en prennant une fenêtre 3x3 entourant x,y"
   ]
  },
  {
   "cell_type": "code",
   "execution_count": null,
   "metadata": {},
   "outputs": [],
   "source": []
  },
  {
   "cell_type": "markdown",
   "metadata": {},
   "source": [
    "comparer avec opencv"
   ]
  },
  {
   "cell_type": "code",
   "execution_count": 54,
   "metadata": {},
   "outputs": [
    {
     "name": "stderr",
     "output_type": "stream",
     "text": [
      "Clipping input data to the valid range for imshow with RGB data ([0..1] for floats or [0..255] for integers).\n"
     ]
    },
    {
     "data": {
      "text/plain": [
       "<matplotlib.image.AxesImage at 0x2bd99d90a58>"
      ]
     },
     "execution_count": 54,
     "metadata": {},
     "output_type": "execute_result"
    },
    {
     "data": {
      "image/png": "[encoded data removed]",
      "text/plain": [
       "<Figure size 432x288 with 1 Axes>"
      ]
     },
     "metadata": {
      "needs_background": "light"
     },
     "output_type": "display_data"
    }
   ],
   "source": [
    "img=image.copy()\n",
    "# Detecter les points avec Harris\n",
    "dst = cv.cornerHarris(img,2,3,0.04)\n",
    "# Dilater l'image pour mieux visualiser les points de coins\n",
    "dst = cv.dilate(dst,None)\n",
    "# Créer une image RVB\n",
    "img2=np.zeros((img.shape[0],img.shape[1],3))\n",
    "img2[:,:,0]=img\n",
    "img2[:,:,1]=img\n",
    "img2[:,:,2]=img\n",
    "# Dessiner les points sur l'image RVB\n",
    "img2[dst>0.01*dst.max()]=[0,0,255]\n",
    "plt.imshow(img2)"
   ]
  },
  {
   "cell_type": "code",
   "execution_count": null,
   "metadata": {},
   "outputs": [],
   "source": []
  },
  {
   "cell_type": "markdown",
   "metadata": {},
   "source": [
    "# Consignes\n",
    "\n",
    "Le travail est à remettre par groupe de 4 au maximum [1..4].\n",
    "\n",
    "Le délai est le vendredi 10 Decembre 2021 à 23:00\n"
   ]
  },
  {
   "cell_type": "code",
   "execution_count": null,
   "metadata": {},
   "outputs": [],
   "source": [
    "# bonne chance"
   ]
  }
 ],
 "metadata": {
  "colab": {
   "collapsed_sections": [],
   "name": "Gradient.ipynb",
   "provenance": []
  },
  "kernelspec": {
   "display_name": "Python 3",
   "language": "python",
   "name": "python3"
  },
  "language_info": {
   "codemirror_mode": {
    "name": "ipython",
    "version": 3
   },
   "file_extension": ".py",
   "mimetype": "text/x-python",
   "name": "python",
   "nbconvert_exporter": "python",
   "pygments_lexer": "ipython3",
   "version": "3.7.3"
  }
 },
 "nbformat": 4,
 "nbformat_minor": 1
}
